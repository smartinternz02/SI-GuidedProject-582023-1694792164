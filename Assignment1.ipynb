{
  "nbformat": 4,
  "nbformat_minor": 0,
  "metadata": {
    "colab": {
      "provenance": []
    },
    "kernelspec": {
      "name": "python3",
      "display_name": "Python 3"
    },
    "language_info": {
      "name": "python"
    }
  },
  "cells": [
    {
      "cell_type": "code",
      "execution_count": null,
      "metadata": {
        "colab": {
          "base_uri": "https://localhost:8080/"
        },
        "id": "oLj2ulzzfY2N",
        "outputId": "8b1ad377-9afd-4aed-be57-6ad71f141ea3"
      },
      "outputs": [
        {
          "output_type": "stream",
          "name": "stdout",
          "text": [
            "   Feature1  Feature2  Feature3  Feature4\n",
            "0  0.289195  0.970269  0.675010  0.120624\n",
            "1  0.073020  0.999898  0.792445  0.021880\n",
            "2  0.751365  0.378544  0.087780  0.602956\n",
            "3  0.151720  0.360585  0.362715  0.620462\n"
          ]
        }
      ],
      "source": [
        "#TASK 1\n",
        "import pandas as pd\n",
        "import numpy as np\n",
        "\n",
        "data = np.random.rand(4, 4)\n",
        "\n",
        "df = pd.DataFrame(data, columns=['Feature1', 'Feature2', 'Feature3', 'Feature4'])\n",
        "\n",
        "print(df)\n"
      ]
    },
    {
      "cell_type": "code",
      "source": [
        "#TASK 2\n",
        "df.rename(columns={'Feature1': 'Random value 1', 'Feature2': 'Random value 2', 'Feature3': 'Random value 3', 'Feature4': 'Random value 4'}, inplace=True)\n",
        "\n",
        "\n",
        "print(df)\n"
      ],
      "metadata": {
        "colab": {
          "base_uri": "https://localhost:8080/"
        },
        "id": "mF-h5OogfZ4N",
        "outputId": "f8c0ab0a-700b-4b17-846f-5b09bedc46a2"
      },
      "execution_count": null,
      "outputs": [
        {
          "output_type": "stream",
          "name": "stdout",
          "text": [
            "   Random value 1  Random value 2  Random value 3  Random value 4\n",
            "0        0.289195        0.970269        0.675010        0.120624\n",
            "1        0.073020        0.999898        0.792445        0.021880\n",
            "2        0.751365        0.378544        0.087780        0.602956\n",
            "3        0.151720        0.360585        0.362715        0.620462\n"
          ]
        }
      ]
    },
    {
      "cell_type": "code",
      "source": [
        "#TASK 3\n",
        "descriptive_stats = df.describe()\n",
        "\n",
        "print(descriptive_stats)\n"
      ],
      "metadata": {
        "colab": {
          "base_uri": "https://localhost:8080/"
        },
        "id": "uIDOfgnGgG_2",
        "outputId": "0d1ea8e6-3d89-459d-c338-7e96d06dc0d7"
      },
      "execution_count": null,
      "outputs": [
        {
          "output_type": "stream",
          "name": "stdout",
          "text": [
            "       Random value 1  Random value 2  Random value 3  Random value 4\n",
            "count        4.000000        4.000000        4.000000        4.000000\n",
            "mean         0.316325        0.677324        0.479487        0.341481\n",
            "std          0.303473        0.355651        0.317932        0.314707\n",
            "min          0.073020        0.360585        0.087780        0.021880\n",
            "25%          0.132045        0.374054        0.293982        0.095938\n",
            "50%          0.220457        0.674406        0.518863        0.361790\n",
            "75%          0.404737        0.977676        0.704368        0.607332\n",
            "max          0.751365        0.999898        0.792445        0.620462\n"
          ]
        }
      ]
    },
    {
      "cell_type": "code",
      "source": [
        "#TASK 4\n",
        "null_values = df.isnull().sum()\n",
        "\n",
        "data_types = df.dtypes\n",
        "\n",
        "print(\"Null Values:\")\n",
        "print(null_values)\n",
        "print(\"\\nData Types:\")\n",
        "print(data_types)\n"
      ],
      "metadata": {
        "colab": {
          "base_uri": "https://localhost:8080/"
        },
        "id": "F09A9GPegVe3",
        "outputId": "c8048146-d53c-44a9-f0c1-1684381c074c"
      },
      "execution_count": null,
      "outputs": [
        {
          "output_type": "stream",
          "name": "stdout",
          "text": [
            "Null Values:\n",
            "Random value 1    0\n",
            "Random value 2    0\n",
            "Random value 3    0\n",
            "Random value 4    0\n",
            "dtype: int64\n",
            "\n",
            "Data Types:\n",
            "Random value 1    float64\n",
            "Random value 2    float64\n",
            "Random value 3    float64\n",
            "Random value 4    float64\n",
            "dtype: object\n"
          ]
        }
      ]
    },
    {
      "cell_type": "code",
      "source": [
        "#TASK 5\n",
        "# Using location method\n",
        "selected_columns_loc = df.loc[:, ['Random value 2', 'Random value 3']]\n",
        "print(selected_columns_loc)\n",
        "\n",
        "# Using index location method\n",
        "\n",
        "selected_columns_index_loc = df.iloc[:, [1, 2]]\n",
        "print(selected_columns_index_loc)\n",
        "\n"
      ],
      "metadata": {
        "colab": {
          "base_uri": "https://localhost:8080/"
        },
        "id": "jEW6OTV9glva",
        "outputId": "339bb815-9e78-4df4-a381-b60b8c5120e8"
      },
      "execution_count": null,
      "outputs": [
        {
          "output_type": "stream",
          "name": "stdout",
          "text": [
            "   Random value 2  Random value 3\n",
            "0        0.970269        0.675010\n",
            "1        0.999898        0.792445\n",
            "2        0.378544        0.087780\n",
            "3        0.360585        0.362715\n",
            "   Random value 2  Random value 3\n",
            "0        0.970269        0.675010\n",
            "1        0.999898        0.792445\n",
            "2        0.378544        0.087780\n",
            "3        0.360585        0.362715\n"
          ]
        }
      ]
    }
  ]
}